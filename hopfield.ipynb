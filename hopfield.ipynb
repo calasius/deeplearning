{
 "cells": [
  {
   "cell_type": "code",
   "execution_count": 1,
   "metadata": {},
   "outputs": [],
   "source": [
    "import numpy as np"
   ]
  },
  {
   "cell_type": "code",
   "execution_count": 7,
   "metadata": {},
   "outputs": [],
   "source": [
    "sign = np.vectorize(lambda x : 1 if x > 0 else -1)\n",
    "prob = np.vectorize(lambda E,T: 1 / (1 + np.e ** (-E/T)))"
   ]
  },
  {
   "cell_type": "code",
   "execution_count": 8,
   "metadata": {},
   "outputs": [],
   "source": [
    "class Hopfield :\n",
    "    def __init__ (self,n_cells, memories, delta_t, temperature):\n",
    "        self.n_cells = n_cells\n",
    "        rows, cols = memories.shape\n",
    "        self.weights = (memories.T * memories - np.mat(np.eye(cols))*rows) / float(cols)\n",
    "        self.memories = memories\n",
    "        self.delta_t = delta_t\n",
    "        self.temperature = temperature\n",
    "        \n",
    "    def finish(self):\n",
    "        self.weights = self.weights * (1/float(self.n_cells))\n",
    "        \n",
    "    def energy(self, state):\n",
    "        return np.asscalar(-1/float(2) * state * self.weights * state.T)\n",
    "    \n",
    "    def nextState(self, state, temperature):\n",
    "        if temperature == 0:\n",
    "            return sign(self.weights * state.T).T\n",
    "        else :\n",
    "            probs = prob(self.weights * state.T, temperature).T\n",
    "            sample_probs = np.mat(np.random.uniform(0,1,self.n_cells))\n",
    "            return sign(probs-sample_probs)\n",
    "        \n",
    "    def findMinimum(self,state):\n",
    "        temp = self.temperature\n",
    "        actual_state = state\n",
    "        equals = False\n",
    "        while not equals and temp > 0.01:\n",
    "            next_state = self.nextState(actual_state, temp)\n",
    "            equals = np.all(np.equal(actual_state,next_state))\n",
    "            actual_state = next_state\n",
    "            temp = temp * self.delta_t\n",
    "        return actual_state\n",
    "    \n",
    "    def error_bits(self, state):\n",
    "        return 1*np.logical_not(np.equal(self.nextState(state,0), state))\n",
    "    \n",
    "    def stimate_error_per_bit_prob(self):\n",
    "        bit_errors_per_memory = [self.error_bits(memory) for memory in hn.memories]\n",
    "        \n",
    "        total_error_per_bit = np.mat(np.zeros(self.n_cells))\n",
    "        \n",
    "        for bit_errors in bit_errors_per_memory:\n",
    "            total_error_per_bit = total_error_per_bit + bit_errors\n",
    "        \n",
    "        total_memories, size_memories = self.memories.shape\n",
    "\n",
    "        error_per_bit_prob_stimated = total_error_per_bit.mean() / float(total_memories)\n",
    "        \n",
    "        return error_per_bit_prob_stimated\n",
    "    "
   ]
  },
  {
   "cell_type": "code",
   "execution_count": 9,
   "metadata": {},
   "outputs": [
    {
     "name": "stdout",
     "output_type": "stream",
     "text": [
      "0.17666666666666667\n"
     ]
    }
   ],
   "source": [
    "N = 300\n",
    "stable = True\n",
    "memories = []\n",
    "while stable:\n",
    "    memories.append(sign(np.random.uniform(-1,1,N)))\n",
    "    hn = Hopfield(n_cells=N,memories=np.mat(memories),delta_t=0.9, temperature=0.1)\n",
    "    error_per_bit_prob_stimated = hn.stimate_error_per_bit_prob()\n",
    "    stable = error_per_bit_prob_stimated < 0.01\n",
    "print(len(memories) / float(N))\n",
    "  "
   ]
  },
  {
   "cell_type": "code",
   "execution_count": null,
   "metadata": {},
   "outputs": [],
   "source": []
  }
 ],
 "metadata": {
  "kernelspec": {
   "display_name": "Python 3",
   "language": "python",
   "name": "python3"
  },
  "language_info": {
   "codemirror_mode": {
    "name": "ipython",
    "version": 3
   },
   "file_extension": ".py",
   "mimetype": "text/x-python",
   "name": "python",
   "nbconvert_exporter": "python",
   "pygments_lexer": "ipython3",
   "version": "3.6.5"
  }
 },
 "nbformat": 4,
 "nbformat_minor": 2
}
