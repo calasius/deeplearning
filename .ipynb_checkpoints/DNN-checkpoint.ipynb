{
 "cells": [
  {
   "cell_type": "code",
   "execution_count": 299,
   "metadata": {},
   "outputs": [],
   "source": [
    "import warnings\n",
    "warnings.filterwarnings(\"ignore\")\n",
    "import numpy as np\n",
    "from abc import ABCMeta, abstractmethod\n",
    "from sklearn import datasets\n",
    "from sklearn.metrics import confusion_matrix\n",
    "import seaborn as sbn\n",
    "\n",
    "prob_to_class = np.vectorize(lambda x: 0 if (x < 0.5) else 1)"
   ]
  },
  {
   "cell_type": "code",
   "execution_count": 165,
   "metadata": {},
   "outputs": [],
   "source": [
    "class LinearLayer :\n",
    "    def __init__(self,in_features, out_features):\n",
    "        self.weights = np.random.randn(out_features, in_features) * np.sqrt(2 / in_features)\n",
    "        self.bias = np.zeros((out_features,1))\n",
    "        \n",
    "    def forward(self,X):\n",
    "        self.X = X\n",
    "        return np.dot(self.weights,X) + self.bias\n",
    "    \n",
    "    def backward(self, grad):\n",
    "        m = X.shape[1]\n",
    "        self.grad_w = np.dot(grad, self.X.T) / m\n",
    "        self.grad_b = np.sum(grad, axis=1, keepdims=True) / m\n",
    "        d = np.dot(self.weights.T,grad)\n",
    "        return d\n",
    "    \n",
    "    def updateParameters(self, learningRate):\n",
    "        self.weights = self.weights - learningRate*self.grad_w\n",
    "        self.bias = self.bias - learningRate*self.grad_b\n"
   ]
  },
  {
   "cell_type": "code",
   "execution_count": 313,
   "metadata": {},
   "outputs": [],
   "source": [
    "class SigmoidLayer:\n",
    "    \n",
    "    def forward(self,Z):\n",
    "        self.Z = Z\n",
    "        self.activation = 1 / (1 + np.exp(-Z))\n",
    "        return self.activation\n",
    "    \n",
    "    def backward(self, grad):\n",
    "        return grad * self.activation * (1 - self.activation)\n",
    "    \n",
    "    def updateParameters(self, learingRate):\n",
    "        return\n",
    "        "
   ]
  },
  {
   "cell_type": "code",
   "execution_count": 327,
   "metadata": {},
   "outputs": [],
   "source": [
    "class ReluLayer:\n",
    "    \n",
    "    def forward(self, Z):\n",
    "        self.Z = Z\n",
    "        self.activation = np.maximum(0,Z)\n",
    "        return self.activation\n",
    "    \n",
    "    def backward(self, grad):\n",
    "        new_grad = np.array(grad, copy = True)\n",
    "        new_grad[self.Z < 0] = 0\n",
    "        return new_grad\n",
    "    \n",
    "    def updateParameters(self,learningRate):\n",
    "        return"
   ]
  },
  {
   "cell_type": "code",
   "execution_count": 359,
   "metadata": {},
   "outputs": [],
   "source": [
    "class CostLayer:\n",
    "    \n",
    "    def forward(self, AL, Y):\n",
    "        self.AL = AL\n",
    "        self.Y = Y\n",
    "        self.numExamples = Y.shape[1]\n",
    "        cost = -(np.dot(np.log(AL),self.Y.T) + np.dot(np.log(1-AL), (1-self.Y.T))) / self.numExamples\n",
    "        cost = np.squeeze(cost)\n",
    "        return cost\n",
    "    \n",
    "    def backward(self):\n",
    "        return -(np.divide(self.Y, self.AL) - np.divide(1 - self.Y, 1 - self.AL))"
   ]
  },
  {
   "cell_type": "code",
   "execution_count": 360,
   "metadata": {},
   "outputs": [],
   "source": [
    "class LogisticRegressionNetwork:\n",
    "    def __init__(self, in_features):\n",
    "        self.in_features = in_features\n",
    "        self.reset()\n",
    "        \n",
    "    def reset(self):\n",
    "        self.linearLayer = LinearLayer(self.in_features, 1)\n",
    "        self.sigmoidLayer = SigmoidLayer()\n",
    "        self.costLayer = CostLayer()\n",
    "        \n",
    "    def forward(self,X,Y):\n",
    "        f1 = self.linearLayer.forward(X)\n",
    "        f2 = self.sigmoidLayer.forward(f1)\n",
    "        cost = self.costLayer.forward(f2,Y)\n",
    "        return cost\n",
    "    \n",
    "    def backward(self):\n",
    "        b1 = self.costLayer.backward()\n",
    "        b2 = self.sigmoidLayer.backward(b1)\n",
    "        b3 = self.linearLayer.backward(b2)\n",
    "    \n",
    "    def updateParameters(self, learningRate):\n",
    "        self.linearLayer.updateParameters(learningRate)\n",
    "        \n",
    "    def train(self, X,Y, epochs = 10, learningRate = 0.1):\n",
    "        costs = []\n",
    "        self.reset()\n",
    "        for epoch in range(0,epochs):\n",
    "            cost = self.forward(X,Y)\n",
    "            self.backward()\n",
    "            self.updateParameters(learningRate)\n",
    "            costs.append(cost)\n",
    "        return costs\n",
    "            \n",
    "    def predict(self,X,Y):\n",
    "        self.forward(X,Y)\n",
    "        return prob_to_class(self.sigmoidLayer.activation)"
   ]
  },
  {
   "cell_type": "code",
   "execution_count": 361,
   "metadata": {},
   "outputs": [],
   "source": [
    "class FeedForwardNeuralNetwork:\n",
    "    def __init__(self, layer_dims):\n",
    "        self.layers = []\n",
    "        self.layer_dims = layer_dims\n",
    "        dim_in = layer_dims[0]\n",
    "        for i in range(1, len(layer_dims)):\n",
    "            dim_out = layer_dims[i]\n",
    "            self.layers.append(LinearLayer(dim_in, dim_out))\n",
    "            #The last activation function is sigmoid to perform classification\n",
    "            if (i == len(layer_dims)-1):\n",
    "                self.layers.append(SigmoidLayer())\n",
    "            else:\n",
    "                self.layers.append(ReluLayer())\n",
    "            dim_in = dim_out\n",
    "        self.costLayer = CostLayer()\n",
    "        \n",
    "    def forward(self,X,Y):\n",
    "        A = X\n",
    "        for i in range(0,len(self.layers)):\n",
    "            A = self.layers[i].forward(A)\n",
    "        cost = self.costLayer.forward(A,Y)\n",
    "        return cost\n",
    "    \n",
    "    def backward(self):\n",
    "        derivatives = self.costLayer.backward()\n",
    "        for i in reversed(range(0,len(self.layers))):\n",
    "            derivatives = self.layers[i].backward(derivatives)\n",
    "            \n",
    "    def updateParameters(self, learningRate):\n",
    "        for i in range(0,len(self.layers)):\n",
    "            self.layers[i].updateParameters(learningRate)\n",
    "            \n",
    "    def train(self, X,Y, epochs = 10, learningRate = 0.01):\n",
    "        costs = []\n",
    "        self.__init__(self.layer_dims)\n",
    "        for epoch in range(0,epochs):\n",
    "            cost = self.forward(X,Y)\n",
    "            self.backward()\n",
    "            self.updateParameters(learningRate)\n",
    "            costs.append(cost)\n",
    "        return costs\n",
    "            \n",
    "    def predict(self,X,Y):\n",
    "        self.forward(X,Y)\n",
    "        return prob_to_class(self.layers[len(self.layers)-1].activation)\n",
    "        \n",
    "    "
   ]
  },
  {
   "cell_type": "code",
   "execution_count": 362,
   "metadata": {},
   "outputs": [],
   "source": [
    "samples = 1000\n",
    "X, y = datasets.make_classification(n_samples=samples, n_features=50)"
   ]
  },
  {
   "cell_type": "code",
   "execution_count": 363,
   "metadata": {},
   "outputs": [],
   "source": [
    "y = np.reshape(a=y,newshape=(1,samples))\n",
    "X = X.T"
   ]
  },
  {
   "cell_type": "code",
   "execution_count": 364,
   "metadata": {},
   "outputs": [
    {
     "name": "stdout",
     "output_type": "stream",
     "text": [
      "X shape =  (50, 1000)\n",
      "y shape =  (1, 1000)\n"
     ]
    }
   ],
   "source": [
    "print(\"X shape = \", X.shape)\n",
    "print(\"y shape = \", y.shape)"
   ]
  },
  {
   "cell_type": "code",
   "execution_count": 365,
   "metadata": {},
   "outputs": [],
   "source": [
    "lr_model = LogisticRegressionNetwork(50)"
   ]
  },
  {
   "cell_type": "code",
   "execution_count": 366,
   "metadata": {},
   "outputs": [
    {
     "name": "stdout",
     "output_type": "stream",
     "text": [
      "Train cost =  0.25117441535211205\n"
     ]
    },
    {
     "data": {
      "image/png": "[encoded data removed]",
      "text/plain": [
       "<Figure size 432x288 with 1 Axes>"
      ]
     },
     "metadata": {},
     "output_type": "display_data"
    }
   ],
   "source": [
    "costs = lr_model.train(X,y,epochs=600,learningRate=0.1)\n",
    "sbn.tsplot(costs)\n",
    "print(\"Train cost = \", costs[len(costs)-1])"
   ]
  },
  {
   "cell_type": "code",
   "execution_count": 367,
   "metadata": {},
   "outputs": [],
   "source": [
    "pred = lr_model.predict(X,y)"
   ]
  },
  {
   "cell_type": "code",
   "execution_count": 368,
   "metadata": {},
   "outputs": [],
   "source": [
    "NN_model = FeedForwardNeuralNetwork([50,10,1])"
   ]
  },
  {
   "cell_type": "code",
   "execution_count": 371,
   "metadata": {},
   "outputs": [
    {
     "name": "stdout",
     "output_type": "stream",
     "text": [
      "Train cost =  0.04776162461475552\n"
     ]
    },
    {
     "data": {
      "image/png": "[encoded data removed]",
      "text/plain": [
       "<Figure size 432x288 with 1 Axes>"
      ]
     },
     "metadata": {},
     "output_type": "display_data"
    }
   ],
   "source": [
    "costs = NN_model.train(X,y,epochs=700,learningRate=0.3)\n",
    "sbn.tsplot(costs)\n",
    "print(\"Train cost = \", costs[len(costs)-1])"
   ]
  },
  {
   "cell_type": "code",
   "execution_count": 370,
   "metadata": {},
   "outputs": [],
   "source": [
    "pred = NN_model.predict(X,y)"
   ]
  },
  {
   "cell_type": "code",
   "execution_count": null,
   "metadata": {},
   "outputs": [],
   "source": []
  },
  {
   "cell_type": "code",
   "execution_count": null,
   "metadata": {},
   "outputs": [],
   "source": []
  }
 ],
 "metadata": {
  "kernelspec": {
   "display_name": "Python 3",
   "language": "python",
   "name": "python3"
  },
  "language_info": {
   "codemirror_mode": {
    "name": "ipython",
    "version": 3
   },
   "file_extension": ".py",
   "mimetype": "text/x-python",
   "name": "python",
   "nbconvert_exporter": "python",
   "pygments_lexer": "ipython3",
   "version": "3.6.5"
  }
 },
 "nbformat": 4,
 "nbformat_minor": 2
}
