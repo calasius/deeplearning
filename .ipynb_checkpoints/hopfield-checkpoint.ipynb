{
 "cells": [
  {
   "cell_type": "code",
   "execution_count": 2,
   "metadata": {
    "collapsed": true,
    "deletable": true,
    "editable": true
   },
   "outputs": [],
   "source": [
    "import numpy as np"
   ]
  },
  {
   "cell_type": "code",
   "execution_count": 3,
   "metadata": {
    "collapsed": false
   },
   "outputs": [],
   "source": [
    "sign_function = np.vectorize(lambda x : 1 if x >= 0 else -1)"
   ]
  },
  {
   "cell_type": "code",
   "execution_count": 12,
   "metadata": {
    "collapsed": false,
    "deletable": true,
    "editable": true
   },
   "outputs": [],
   "source": [
    "class Hopfield :\n",
    "    def __init__ (self,n_cells, memories=[]):\n",
    "        self.n_cells = n_cells\n",
    "        self.weights = np.mat(np.zeros((n_cells,n_cells)))\n",
    "        self.memories = memories\n",
    "        if len(self.memories) > 0:\n",
    "            for m in memories:\n",
    "                self.addMemory(m)\n",
    "            self.finish()\n",
    "        \n",
    "    def addMemory(self, memory):\n",
    "        self.weights = self.weights + (memory.T * memory - np.mat(np.eye(self.n_cells)))\n",
    "        \n",
    "    def finish(self):\n",
    "        self.weights = self.weights * (1/float(self.n_cells))\n",
    "        \n",
    "    def energy(self, state):\n",
    "        return np.asscalar(-1/float(2) * state * self.weights * state.T)\n",
    "        \n",
    "    def findMinimum(self,state):\n",
    "        actual_state = state\n",
    "        equals = False\n",
    "        while not equals :\n",
    "            print self.energy(actual_state)\n",
    "            next_state = np.mat(np.zeros(self.n_cells))\n",
    "            for i in range(0,self.n_cells):\n",
    "                sign = np.asscalar(sign_function(self.weights[i,:] * state.T))\n",
    "                next_state[:i] = sign\n",
    "            equals = np.all(np.equal(actual_state,next_state))\n",
    "            actual_state = next_state\n",
    "        return actual_state"
   ]
  },
  {
   "cell_type": "code",
   "execution_count": 13,
   "metadata": {
    "collapsed": false,
    "deletable": true,
    "editable": true
   },
   "outputs": [
    {
     "name": "stdout",
     "output_type": "stream",
     "text": [
      "-499.5\n",
      "0.3\n",
      "1\n"
     ]
    }
   ],
   "source": [
    "N = 1000\n",
    "def hopfield_stable(hn):\n",
    "    return np.all([np.all(np.equal(memory,hn.findMinimum(memory))) for memory in hn.memories])\n",
    "stable = True\n",
    "memories = []\n",
    "while stable:\n",
    "    memories.append(sign_function(np.mat(np.random.uniform(-1,1,N))))\n",
    "    hn = Hopfield(N,memories)\n",
    "    stable = hopfield_stable(hn)\n",
    "print len(memories)"
   ]
  },
  {
   "cell_type": "code",
   "execution_count": 29,
   "metadata": {
    "collapsed": false,
    "deletable": true,
    "editable": true,
    "scrolled": true
   },
   "outputs": [
    {
     "name": "stdout",
     "output_type": "stream",
     "text": [
      "[[-1  1 -1]]\n",
      "-3.0\n",
      "1.0\n",
      "[[-1. -1. -1.]]\n",
      "[[ 0. -1.  1.]\n",
      " [-1.  0. -1.]\n",
      " [ 1. -1.  0.]]\n"
     ]
    }
   ],
   "source": [
    "N = 3\n",
    "memory = sign_function(np.mat(np.random.uniform(-1,1,N)))\n",
    "hn = Hopfield(N)\n",
    "hn.addMemory(memory)\n",
    "print memory\n",
    "print hn.findMinimum(memory)\n",
    "print hn.weights"
   ]
  },
  {
   "cell_type": "code",
   "execution_count": 15,
   "metadata": {
    "collapsed": false,
    "deletable": true,
    "editable": true
   },
   "outputs": [
    {
     "name": "stdout",
     "output_type": "stream",
     "text": [
      "-1.0\n",
      "-21.0\n",
      "[[ 1.  1.  1.  1.  1.  1.  1.]]\n",
      "-9.0\n",
      "-21.0\n",
      "[[-1. -1. -1. -1. -1. -1. -1.]]\n"
     ]
    }
   ],
   "source": [
    "hn = Hopfield(7)\n",
    "hn.addMemory(np.mat([1,1,1,1,1,1,1]))\n",
    "print hn.findMinimum(np.mat([1,-1,-1,1,1,1,1]))\n",
    "print hn.findMinimum(np.mat([-1,-1,-1,1,-1,-1,-1]))"
   ]
  },
  {
   "cell_type": "code",
   "execution_count": 16,
   "metadata": {
    "collapsed": false,
    "deletable": true,
    "editable": true
   },
   "outputs": [],
   "source": [
    "f = np.vectorize(lambda x,y: x*x +y)"
   ]
  },
  {
   "cell_type": "code",
   "execution_count": 78,
   "metadata": {
    "collapsed": false,
    "deletable": true,
    "editable": true
   },
   "outputs": [
    {
     "data": {
      "text/plain": [
       "array([ 3,  6, 11])"
      ]
     },
     "execution_count": 78,
     "metadata": {},
     "output_type": "execute_result"
    }
   ],
   "source": [
    "f([1,2,3],2)"
   ]
  },
  {
   "cell_type": "code",
   "execution_count": 127,
   "metadata": {
    "collapsed": false,
    "deletable": true,
    "editable": true
   },
   "outputs": [
    {
     "data": {
      "text/plain": [
       "matrix([[ 1.5,  0. ,  0. ],\n",
       "        [ 0. ,  1.5,  0. ],\n",
       "        [ 0. ,  0. ,  1.5]])"
      ]
     },
     "execution_count": 127,
     "metadata": {},
     "output_type": "execute_result"
    }
   ],
   "source": [
    "eye = np.eye(3)\n",
    "np.matrix(eye)+np.matrix(eye) * 1/float(2)"
   ]
  },
  {
   "cell_type": "code",
   "execution_count": 92,
   "metadata": {
    "collapsed": false,
    "deletable": true,
    "editable": true
   },
   "outputs": [
    {
     "data": {
      "text/plain": [
       "matrix([[ 0.,  2.,  3.],\n",
       "        [ 2.,  3.,  6.],\n",
       "        [ 3.,  6.,  8.]])"
      ]
     },
     "execution_count": 92,
     "metadata": {},
     "output_type": "execute_result"
    }
   ],
   "source": [
    "M = np.matrix(np.zeros((3,3)))\n",
    "v = np.matrix([1,2,3])\n",
    "M + (v.T*v) - np.matrix(np.eye(3))"
   ]
  },
  {
   "cell_type": "code",
   "execution_count": 18,
   "metadata": {
    "collapsed": true,
    "deletable": true,
    "editable": true
   },
   "outputs": [],
   "source": [
    "v = np.mat([1,2,3])\n",
    "v1 = np.mat([1,3])"
   ]
  },
  {
   "cell_type": "code",
   "execution_count": 19,
   "metadata": {
    "collapsed": false
   },
   "outputs": [
    {
     "ename": "ValueError",
     "evalue": "operands could not be broadcast together with shapes (1,3) (1,2) ",
     "output_type": "error",
     "traceback": [
      "\u001b[0;31m---------------------------------------------------------------------------\u001b[0m",
      "\u001b[0;31mValueError\u001b[0m                                Traceback (most recent call last)",
      "\u001b[0;32m<ipython-input-19-cd5bed0b1bf8>\u001b[0m in \u001b[0;36m<module>\u001b[0;34m()\u001b[0m\n\u001b[0;32m----> 1\u001b[0;31m \u001b[0mnp\u001b[0m\u001b[0;34m.\u001b[0m\u001b[0mall\u001b[0m\u001b[0;34m(\u001b[0m\u001b[0mnp\u001b[0m\u001b[0;34m.\u001b[0m\u001b[0mequal\u001b[0m\u001b[0;34m(\u001b[0m\u001b[0mv\u001b[0m\u001b[0;34m,\u001b[0m\u001b[0mv1\u001b[0m\u001b[0;34m)\u001b[0m\u001b[0;34m)\u001b[0m\u001b[0;34m\u001b[0m\u001b[0m\n\u001b[0m",
      "\u001b[0;31mValueError\u001b[0m: operands could not be broadcast together with shapes (1,3) (1,2) "
     ]
    }
   ],
   "source": [
    "np.all(np.equal(v,v1))"
   ]
  },
  {
   "cell_type": "code",
   "execution_count": null,
   "metadata": {
    "collapsed": true
   },
   "outputs": [],
   "source": []
  }
 ],
 "metadata": {
  "kernelspec": {
   "display_name": "Python 2",
   "language": "python",
   "name": "python2"
  },
  "language_info": {
   "codemirror_mode": {
    "name": "ipython",
    "version": 2
   },
   "file_extension": ".py",
   "mimetype": "text/x-python",
   "name": "python",
   "nbconvert_exporter": "python",
   "pygments_lexer": "ipython2",
   "version": "2.7.12"
  }
 },
 "nbformat": 4,
 "nbformat_minor": 2
}
