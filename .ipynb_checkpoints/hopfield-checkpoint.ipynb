{
 "cells": [
  {
   "cell_type": "code",
   "execution_count": 1,
   "metadata": {
    "collapsed": true,
    "deletable": true,
    "editable": true
   },
   "outputs": [],
   "source": [
    "import numpy as np"
   ]
  },
  {
   "cell_type": "code",
   "execution_count": 2,
   "metadata": {
    "collapsed": false,
    "deletable": true,
    "editable": true
   },
   "outputs": [],
   "source": [
    "sign = np.vectorize(lambda x : 1 if x > 0 else -1)"
   ]
  },
  {
   "cell_type": "code",
   "execution_count": 3,
   "metadata": {
    "collapsed": true
   },
   "outputs": [],
   "source": [
    "prob = np.vectorize(lambda E,T: 1 / (1 + np.e ** (-E/T)))"
   ]
  },
  {
   "cell_type": "code",
   "execution_count": 133,
   "metadata": {
    "collapsed": false,
    "deletable": true,
    "editable": true
   },
   "outputs": [],
   "source": [
    "class Hopfield :\n",
    "    def __init__ (self,n_cells, memories, delta_t, temperature):\n",
    "        self.n_cells = n_cells\n",
    "        rows, cols = memories.shape\n",
    "        self.weights = (memories.T * memories - np.mat(np.eye(cols))*rows) / float(cols)\n",
    "        self.memories = memories\n",
    "        self.delta_t = delta_t\n",
    "        self.temperature = temperature\n",
    "        \n",
    "    def finish(self):\n",
    "        self.weights = self.weights * (1/float(self.n_cells))\n",
    "        \n",
    "    def energy(self, state):\n",
    "        return np.asscalar(-1/float(2) * state * self.weights * state.T)\n",
    "    \n",
    "    def nextState(self, state, temperature):\n",
    "        if temperature == 0:\n",
    "            return sign(self.weights * state.T).T\n",
    "        else :\n",
    "            probs = prob(self.weights * state.T, temperature).T\n",
    "            sample_probs = np.mat(np.random.uniform(0,1,self.n_cells))\n",
    "            return sign(probs-sample_probs)\n",
    "        \n",
    "    def findMinimum(self,state):\n",
    "        temp = self.temperature\n",
    "        actual_state = state\n",
    "        equals = False\n",
    "        while not equals and temp > 0.01:\n",
    "            next_state = self.nextState(actual_state, temp)\n",
    "            equals = np.all(np.equal(actual_state,next_state))\n",
    "            actual_state = next_state\n",
    "            temp = temp * self.delta_t\n",
    "        return actual_state\n",
    "    \n",
    "    def isStable(self, error):\n",
    "        bit_errors_per_memory = np.array([hn.n_cells - np.asscalar(hn.nextState(memory,0) * memory.T) for memory in hn.memories])\n",
    "        return bit_errors_per_memory.mean() / float(hn.n_cells) < error"
   ]
  },
  {
   "cell_type": "code",
   "execution_count": 134,
   "metadata": {
    "collapsed": false,
    "deletable": true,
    "editable": true
   },
   "outputs": [
    {
     "name": "stdout",
     "output_type": "stream",
     "text": [
      "0.376\n"
     ]
    }
   ],
   "source": [
    "N = 500\n",
    "stable = True\n",
    "memories = []\n",
    "while stable:\n",
    "    memories.append(sign(np.random.uniform(-1,1,N)))\n",
    "    hn = Hopfield(n_cells=N,memories=np.mat(memories),delta_t=0.9, temperature=0.1)\n",
    "    stable = hn.isStable(0.1)\n",
    "print len(memories) / float(N)\n",
    "  "
   ]
  },
  {
   "cell_type": "code",
   "execution_count": 73,
   "metadata": {
    "collapsed": false,
    "deletable": true,
    "editable": true
   },
   "outputs": [
    {
     "name": "stdout",
     "output_type": "stream",
     "text": [
      "V =  [ 0.27107676 -0.03060197  0.29236612]\n",
      "probs =  [  1.00000000e+00   5.12546861e-14   1.00000000e+00]\n",
      "[ 1 -1  1]\n"
     ]
    }
   ],
   "source": [
    "v = np.random.uniform(-1,1,3)\n",
    "v_probs = prob(v,0.001)\n",
    "print \"V = \",v\n",
    "print \"probs = \", v_probs \n",
    "print sign(v_probs -np.random.uniform(0,1,3))"
   ]
  },
  {
   "cell_type": "code",
   "execution_count": 116,
   "metadata": {
    "collapsed": false,
    "deletable": true,
    "editable": true
   },
   "outputs": [
    {
     "data": {
      "text/plain": [
       "1.0"
      ]
     },
     "execution_count": 116,
     "metadata": {},
     "output_type": "execute_result"
    }
   ],
   "source": [
    "v = np.array([0,0,0,0,1])\n",
    "v[v>0].mean()"
   ]
  },
  {
   "cell_type": "code",
   "execution_count": null,
   "metadata": {
    "collapsed": true
   },
   "outputs": [],
   "source": []
  },
  {
   "cell_type": "code",
   "execution_count": null,
   "metadata": {
    "collapsed": true
   },
   "outputs": [],
   "source": []
  }
 ],
 "metadata": {
  "kernelspec": {
   "display_name": "Python 2",
   "language": "python",
   "name": "python2"
  },
  "language_info": {
   "codemirror_mode": {
    "name": "ipython",
    "version": 2
   },
   "file_extension": ".py",
   "mimetype": "text/x-python",
   "name": "python",
   "nbconvert_exporter": "python",
   "pygments_lexer": "ipython2",
   "version": "2.7.12"
  }
 },
 "nbformat": 4,
 "nbformat_minor": 2
}
