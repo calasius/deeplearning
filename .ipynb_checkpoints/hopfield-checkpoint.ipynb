{
 "cells": [
  {
   "cell_type": "code",
   "execution_count": 2,
   "metadata": {
    "collapsed": true,
    "deletable": true,
    "editable": true
   },
   "outputs": [],
   "source": [
    "import numpy as np"
   ]
  },
  {
   "cell_type": "code",
   "execution_count": 90,
   "metadata": {
    "collapsed": false
   },
   "outputs": [],
   "source": [
    "sign = np.vectorize(lambda x : 1 if x > 0 else -1)"
   ]
  },
  {
   "cell_type": "code",
   "execution_count": 136,
   "metadata": {
    "collapsed": false,
    "deletable": true,
    "editable": true
   },
   "outputs": [],
   "source": [
    "class Hopfield :\n",
    "    def __init__ (self,n_cells, memories):\n",
    "        self.n_cells = n_cells\n",
    "        rows, cols = memories.shape\n",
    "        self.weights = (memories.T * memories - np.mat(np.eye(cols))*rows) / float(cols)\n",
    "        self.memories = memories\n",
    "        \n",
    "    def finish(self):\n",
    "        self.weights = self.weights * (1/float(self.n_cells))\n",
    "        \n",
    "    def energy(self, state):\n",
    "        return np.asscalar(-1/float(2) * state * self.weights * state.T)\n",
    "        \n",
    "    def findMinimum(self,state):\n",
    "        actual_state = state\n",
    "        equals = False\n",
    "        while not equals :\n",
    "            next_state = sign(self.weights * actual_state.T).T \n",
    "            equals = np.all(np.equal(actual_state,next_state))\n",
    "            actual_state = next_state\n",
    "        return actual_state\n",
    "    \n",
    "    def isStable(self, error):\n",
    "        stable_memories = [np.all(np.equal(memory,hn.findMinimum(memory))) for memory in hn.memories]\n",
    "        errors = filter(lambda x: x == False, stable_memories)\n",
    "        return (len(errors) / float(len(stable_memories))) < error"
   ]
  },
  {
   "cell_type": "code",
   "execution_count": 175,
   "metadata": {
    "collapsed": false,
    "deletable": true,
    "editable": true
   },
   "outputs": [
    {
     "name": "stdout",
     "output_type": "stream",
     "text": [
      "0.0857142857143\n"
     ]
    }
   ],
   "source": [
    "N = 700\n",
    "stable = True\n",
    "memories = []\n",
    "while stable:\n",
    "    memories.append(sign_function(np.random.uniform(-1,1,N)))\n",
    "    hn = Hopfield(N,np.mat(memories))\n",
    "    stable = hn.isStable(.1)\n",
    "print len(memories) / float(N)"
   ]
  },
  {
   "cell_type": "code",
   "execution_count": null,
   "metadata": {
    "collapsed": true
   },
   "outputs": [],
   "source": []
  },
  {
   "cell_type": "code",
   "execution_count": null,
   "metadata": {
    "collapsed": true
   },
   "outputs": [],
   "source": []
  }
 ],
 "metadata": {
  "kernelspec": {
   "display_name": "Python 2",
   "language": "python",
   "name": "python2"
  },
  "language_info": {
   "codemirror_mode": {
    "name": "ipython",
    "version": 2
   },
   "file_extension": ".py",
   "mimetype": "text/x-python",
   "name": "python",
   "nbconvert_exporter": "python",
   "pygments_lexer": "ipython2",
   "version": "2.7.12"
  }
 },
 "nbformat": 4,
 "nbformat_minor": 2
}
