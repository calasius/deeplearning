{
 "cells": [
  {
   "cell_type": "code",
   "execution_count": 1,
   "metadata": {
    "collapsed": true,
    "deletable": true,
    "editable": true
   },
   "outputs": [],
   "source": [
    "import numpy as np"
   ]
  },
  {
   "cell_type": "code",
   "execution_count": 2,
   "metadata": {
    "collapsed": false,
    "deletable": true,
    "editable": true
   },
   "outputs": [],
   "source": [
    "sign = np.vectorize(lambda x : 1 if x > 0 else -1)"
   ]
  },
  {
   "cell_type": "code",
   "execution_count": 3,
   "metadata": {
    "collapsed": true,
    "deletable": true,
    "editable": true
   },
   "outputs": [],
   "source": [
    "prob = np.vectorize(lambda E,T: 1 / (1 + np.e ** (-E/T)))"
   ]
  },
  {
   "cell_type": "code",
   "execution_count": null,
   "metadata": {
    "collapsed": true,
    "deletable": true,
    "editable": true
   },
   "outputs": [],
   "source": [
    "\n",
    "    "
   ]
  },
  {
   "cell_type": "code",
   "execution_count": 28,
   "metadata": {
    "collapsed": false,
    "deletable": true,
    "editable": true
   },
   "outputs": [],
   "source": [
    "class Hopfield :\n",
    "    def __init__ (self,n_cells, memories, delta_t, temperature):\n",
    "        self.n_cells = n_cells\n",
    "        rows, cols = memories.shape\n",
    "        self.weights = (memories.T * memories - np.mat(np.eye(cols))*rows) / float(cols)\n",
    "        self.memories = memories\n",
    "        self.delta_t = delta_t\n",
    "        self.temperature = temperature\n",
    "        \n",
    "    def finish(self):\n",
    "        self.weights = self.weights * (1/float(self.n_cells))\n",
    "        \n",
    "    def energy(self, state):\n",
    "        return np.asscalar(-1/float(2) * state * self.weights * state.T)\n",
    "    \n",
    "    def nextState(self, state, temperature):\n",
    "        if temperature == 0:\n",
    "            return sign(self.weights * state.T).T\n",
    "        else :\n",
    "            probs = prob(self.weights * state.T, temperature).T\n",
    "            sample_probs = np.mat(np.random.uniform(0,1,self.n_cells))\n",
    "            return sign(probs-sample_probs)\n",
    "        \n",
    "    def findMinimum(self,state):\n",
    "        temp = self.temperature\n",
    "        actual_state = state\n",
    "        equals = False\n",
    "        while not equals and temp > 0.01:\n",
    "            next_state = self.nextState(actual_state, temp)\n",
    "            equals = np.all(np.equal(actual_state,next_state))\n",
    "            actual_state = next_state\n",
    "            temp = temp * self.delta_t\n",
    "        return actual_state\n",
    "    \n",
    "    def error_bits(self, state):\n",
    "        return 1*np.logical_not(np.equal(self.nextState(state,0), state))\n",
    "    \n",
    "    def isStable(self, error_per_bit_percentage):\n",
    "        bit_errors_per_memory = [self.error_bits(memory) for memory in hn.memories]\n",
    "        \n",
    "        total_error_per_bit = np.mat(np.zeros(self.n_cells))\n",
    "        \n",
    "        for bit_errors in bit_errors_per_memory:\n",
    "            total_error_per_bit = total_error_per_bit + bit_errors\n",
    "        \n",
    "        total_memories, size_memories = self.memories.shape\n",
    "\n",
    "        error_per_bit_prob_stimated = total_error_per_bit.mean() / float(total_memories)\n",
    "        \n",
    "        return error_per_bit_prob_stimated < error_per_bit_percentage\n",
    "    "
   ]
  },
  {
   "cell_type": "code",
   "execution_count": 39,
   "metadata": {
    "collapsed": false,
    "deletable": true,
    "editable": true
   },
   "outputs": [
    {
     "name": "stdout",
     "output_type": "stream",
     "text": [
      "0.193333333333\n"
     ]
    }
   ],
   "source": [
    "N = 300\n",
    "stable = True\n",
    "memories = []\n",
    "while stable:\n",
    "    memories.append(sign(np.random.uniform(-1,1,N)))\n",
    "    hn = Hopfield(n_cells=N,memories=np.mat(memories),delta_t=0.9, temperature=0.1)\n",
    "    stable = hn.isStable(0.01)\n",
    "print len(memories) / float(N)\n",
    "  "
   ]
  },
  {
   "cell_type": "code",
   "execution_count": 73,
   "metadata": {
    "collapsed": false,
    "deletable": true,
    "editable": true
   },
   "outputs": [
    {
     "name": "stdout",
     "output_type": "stream",
     "text": [
      "V =  [ 0.27107676 -0.03060197  0.29236612]\n",
      "probs =  [  1.00000000e+00   5.12546861e-14   1.00000000e+00]\n",
      "[ 1 -1  1]\n"
     ]
    }
   ],
   "source": [
    "v = np.random.uniform(-1,1,3)\n",
    "v_probs = prob(v,0.001)\n",
    "print \"V = \",v\n",
    "print \"probs = \", v_probs \n",
    "print sign(v_probs -np.random.uniform(0,1,3))"
   ]
  },
  {
   "cell_type": "code",
   "execution_count": 116,
   "metadata": {
    "collapsed": false,
    "deletable": true,
    "editable": true
   },
   "outputs": [
    {
     "data": {
      "text/plain": [
       "1.0"
      ]
     },
     "execution_count": 116,
     "metadata": {},
     "output_type": "execute_result"
    }
   ],
   "source": [
    "v = np.array([0,0,0,0,1])\n",
    "v[v>0].mean()"
   ]
  },
  {
   "cell_type": "code",
   "execution_count": 12,
   "metadata": {
    "collapsed": false,
    "deletable": true,
    "editable": true
   },
   "outputs": [
    {
     "ename": "ValueError",
     "evalue": "The truth value of an array with more than one element is ambiguous. Use a.any() or a.all()",
     "output_type": "error",
     "traceback": [
      "\u001b[0;31m---------------------------------------------------------------------------\u001b[0m",
      "\u001b[0;31mValueError\u001b[0m                                Traceback (most recent call last)",
      "\u001b[0;32m<ipython-input-12-76153d161f63>\u001b[0m in \u001b[0;36m<module>\u001b[0;34m()\u001b[0m\n\u001b[1;32m      1\u001b[0m \u001b[0mv\u001b[0m \u001b[0;34m=\u001b[0m \u001b[0mnp\u001b[0m\u001b[0;34m.\u001b[0m\u001b[0mmat\u001b[0m\u001b[0;34m(\u001b[0m\u001b[0;34m[\u001b[0m\u001b[0;36m1\u001b[0m\u001b[0;34m,\u001b[0m\u001b[0;36m2\u001b[0m\u001b[0;34m,\u001b[0m\u001b[0;36m3\u001b[0m\u001b[0;34m]\u001b[0m\u001b[0;34m)\u001b[0m\u001b[0;34m\u001b[0m\u001b[0m\n\u001b[1;32m      2\u001b[0m \u001b[0mu\u001b[0m \u001b[0;34m=\u001b[0m \u001b[0mnp\u001b[0m\u001b[0;34m.\u001b[0m\u001b[0mmat\u001b[0m\u001b[0;34m(\u001b[0m\u001b[0;34m[\u001b[0m\u001b[0;36m1\u001b[0m\u001b[0;34m,\u001b[0m\u001b[0;36m2\u001b[0m\u001b[0;34m,\u001b[0m\u001b[0;36m4\u001b[0m\u001b[0;34m]\u001b[0m\u001b[0;34m)\u001b[0m\u001b[0;34m\u001b[0m\u001b[0m\n\u001b[0;32m----> 3\u001b[0;31m \u001b[0;32mnot\u001b[0m \u001b[0mnp\u001b[0m\u001b[0;34m.\u001b[0m\u001b[0mequal\u001b[0m\u001b[0;34m(\u001b[0m\u001b[0mu\u001b[0m\u001b[0;34m,\u001b[0m\u001b[0mv\u001b[0m\u001b[0;34m)\u001b[0m\u001b[0;34m\u001b[0m\u001b[0m\n\u001b[0m\u001b[1;32m      4\u001b[0m \u001b[0;31m#np.mat(map(lambda x : 1 if x else 0, np.equal(np.array(u),np.array(v))))\u001b[0m\u001b[0;34m\u001b[0m\u001b[0;34m\u001b[0m\u001b[0m\n",
      "\u001b[0;31mValueError\u001b[0m: The truth value of an array with more than one element is ambiguous. Use a.any() or a.all()"
     ]
    }
   ],
   "source": [
    "v = np.mat([1,2,3])\n",
    "u = np.mat([1,2,4])\n",
    "not np.equal(u,v)\n",
    "#np.mat(map(lambda x : 1 if x else 0, np.equal(np.array(u),np.array(v))))"
   ]
  },
  {
   "cell_type": "code",
   "execution_count": null,
   "metadata": {
    "collapsed": true,
    "deletable": true,
    "editable": true
   },
   "outputs": [],
   "source": []
  },
  {
   "cell_type": "code",
   "execution_count": null,
   "metadata": {
    "collapsed": true,
    "deletable": true,
    "editable": true
   },
   "outputs": [],
   "source": []
  }
 ],
 "metadata": {
  "kernelspec": {
   "display_name": "Python 2",
   "language": "python",
   "name": "python2"
  },
  "language_info": {
   "codemirror_mode": {
    "name": "ipython",
    "version": 2
   },
   "file_extension": ".py",
   "mimetype": "text/x-python",
   "name": "python",
   "nbconvert_exporter": "python",
   "pygments_lexer": "ipython2",
   "version": "2.7.12"
  }
 },
 "nbformat": 4,
 "nbformat_minor": 2
}
